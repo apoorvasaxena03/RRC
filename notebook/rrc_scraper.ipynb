{
 "cells": [
  {
   "cell_type": "code",
   "execution_count": 1,
   "metadata": {},
   "outputs": [],
   "source": [
    "import requests\n",
    "from bs4 import BeautifulSoup\n",
    "import pandas as pd\n",
    "import re"
   ]
  },
  {
   "cell_type": "code",
   "execution_count": 2,
   "metadata": {},
   "outputs": [],
   "source": [
    "target_url = 'https://webapps2.rrc.texas.gov/EWA/drillingPermitsQueryAction.do'"
   ]
  },
  {
   "cell_type": "code",
   "execution_count": 3,
   "metadata": {},
   "outputs": [],
   "source": [
    "api_list = [4212335341,4238940705,4238940783] #No Ammendments, Ammnedment filed no approval date, one ammendment"
   ]
  },
  {
   "cell_type": "markdown",
   "metadata": {},
   "source": [
    "#### First Try"
   ]
  },
  {
   "cell_type": "code",
   "execution_count": 4,
   "metadata": {},
   "outputs": [],
   "source": [
    "def payload(api):\n",
    "         \n",
    "    \"\"\"      \n",
    "    Parameters\n",
    "    ----------\n",
    "    api : TYPE, int\n",
    "        DESCRIPTION. Strips API of initial '42'.\n",
    "\n",
    "    Returns\n",
    "    -------\n",
    "    Dict.\n",
    "    \"\"\"\n",
    "    api = int(str(api)[2:])\n",
    "\n",
    "    payload = {\n",
    "    'methodToCall': 'search',\n",
    "    'searchArgs.apiNoHndlr.inputValue': api,\n",
    "    'searchArgs.operatorNameWildcardHndlr.inputValue': 'beginsWith',\n",
    "    'searchArgs.leaseNameWildcardHndlr.inputValue': 'beginsWith',\n",
    "    'searchArgs.fieldNameWildcardHndlr.inputValue': 'beginsWith',\n",
    "    'searchArgs.surveyNameWildcardHndlr.inputValue': 'beginsWith'\n",
    "    }\n",
    "\n",
    "    return payload"
   ]
  },
  {
   "cell_type": "code",
   "execution_count": 5,
   "metadata": {},
   "outputs": [],
   "source": [
    "def parse_data(post_response):\n",
    "    \"\"\"      \n",
    "    Parameters\n",
    "    ----------\n",
    "    post_response : TYPE, Requests Response\n",
    "        DESCRIPTION. Response from the target url.\n",
    "\n",
    "    Returns\n",
    "    -------\n",
    "    DataFrame.\n",
    "    \"\"\"\n",
    "    soup = BeautifulSoup(post_response.content,'html.parser')\n",
    "    web_links = soup.select('a')\n",
    "    href = [web_link['href'] for web_link in web_links if 'drillingPermitDetailAction' in web_link['href']]\n",
    "\n",
    "    df = pd.read_html(post_response.text)[9]\n",
    "    df.columns = df.iloc[1,:]\n",
    "    df = df.drop([0,1]).copy()\n",
    "    df = df.reset_index(drop=True).copy()\n",
    "    df['API NO.'] = int(df['API NO.'].str.split()[0][0])\n",
    "    df['HREF'] = href\n",
    "\n",
    "    return df"
   ]
  },
  {
   "cell_type": "code",
   "execution_count": 6,
   "metadata": {},
   "outputs": [],
   "source": [
    "headers = {\n",
    "    'Accept': 'text/html,application/xhtml+xml,application/xml;q=0.9,image/avif,image/webp,image/apng,*/*;q=0.8,application/signed-exchange;v=b3;q=0.7',\n",
    "    'Accept-Encoding': 'gzip, deflate, br',\n",
    "    'Accept-Language': 'en-US,en;q=0.9',\n",
    "    'Cache-Control': 'max-age=0',\n",
    "    'Connection': 'keep-alive',\n",
    "    'Host': 'webapps2.rrc.texas.gov',\n",
    "    'Sec-Fetch-Dest': 'document',\n",
    "    'Sec-Fetch-Mode': 'navigate',\n",
    "    'Sec-Fetch-Site': 'none',\n",
    "    'Sec-Fetch-User': '?1',\n",
    "    'Upgrade-Insecure-Requests': '1',\n",
    "    'User-Agent': 'Mozilla/5.0 (Windows NT 10.0; Win64; x64) AppleWebKit/537.36 (KHTML, like Gecko) Chrome/119.0.0.0 Safari/537.36',\n",
    "    'sec-ch-ua': \"Google Chrome;v='119', 'Chromium';v='119', 'Not?A_Brand';v='24'\",\n",
    "    'sec-ch-ua-mobile': \"?0\",\n",
    "    'sec-ch-ua-platform': \"Windows\"\n",
    "}"
   ]
  },
  {
   "cell_type": "code",
   "execution_count": 13,
   "metadata": {},
   "outputs": [
    {
     "name": "stderr",
     "output_type": "stream",
     "text": [
      "c:\\Users\\Apoorva.Saxena\\OneDrive - Sitio Royalties\\Desktop\\Project - Apoorva\\Python\\Scraping\\RRC\\scraper\\lib\\site-packages\\urllib3\\connectionpool.py:1099: InsecureRequestWarning: Unverified HTTPS request is being made to host 'webapps2.rrc.texas.gov'. Adding certificate verification is strongly advised. See: https://urllib3.readthedocs.io/en/latest/advanced-usage.html#tls-warnings\n",
      "  warnings.warn(\n",
      "c:\\Users\\Apoorva.Saxena\\OneDrive - Sitio Royalties\\Desktop\\Project - Apoorva\\Python\\Scraping\\RRC\\scraper\\lib\\site-packages\\urllib3\\connectionpool.py:1099: InsecureRequestWarning: Unverified HTTPS request is being made to host 'webapps2.rrc.texas.gov'. Adding certificate verification is strongly advised. See: https://urllib3.readthedocs.io/en/latest/advanced-usage.html#tls-warnings\n",
      "  warnings.warn(\n"
     ]
    }
   ],
   "source": [
    "try:\n",
    "    with requests.session() as s:\n",
    "        res_get = s.get(url=target_url,headers=headers,verify=False)\n",
    "\n",
    "        if res_get.status_code == 200:\n",
    "            cookies = res_get.cookies\n",
    "            res_post = s.post(url=target_url,data=payload(api_list[1]),cookies=cookies,headers=headers)\n",
    "\n",
    "except Exception as e:\n",
    "    print(e)"
   ]
  },
  {
   "cell_type": "code",
   "execution_count": 14,
   "metadata": {},
   "outputs": [],
   "source": [
    "soup = BeautifulSoup(res_post.content,'html.parser')\n",
    "# print(soup.prettify())"
   ]
  },
  {
   "cell_type": "code",
   "execution_count": 15,
   "metadata": {},
   "outputs": [],
   "source": [
    "web_links = soup.select('a')\n",
    "\n",
    "href = [web_link['href'] for web_link in web_links if 'drillingPermitDetailAction' in web_link['href']]"
   ]
  },
  {
   "cell_type": "code",
   "execution_count": 16,
   "metadata": {},
   "outputs": [
    {
     "name": "stderr",
     "output_type": "stream",
     "text": [
      "C:\\Users\\Apoorva.Saxena\\AppData\\Local\\Temp\\ipykernel_39336\\3320168950.py:1: FutureWarning: Passing literal html to 'read_html' is deprecated and will be removed in a future version. To read from a literal string, wrap it in a 'StringIO' object.\n",
      "  df = pd.read_html(res_post.text)[9]\n"
     ]
    }
   ],
   "source": [
    "df = pd.read_html(res_post.text)[9]\n",
    "df.columns = df.iloc[1,:]\n",
    "df = df.drop([0,1]).copy()\n",
    "df = df.reset_index(drop=True)\n",
    "df['HREF'] = href\n",
    "df['API NO.'] = int(df['API NO.'].str.split()[0][0])"
   ]
  },
  {
   "cell_type": "code",
   "execution_count": 18,
   "metadata": {},
   "outputs": [
    {
     "data": {
      "text/html": [
       "<div>\n",
       "<style scoped>\n",
       "    .dataframe tbody tr th:only-of-type {\n",
       "        vertical-align: middle;\n",
       "    }\n",
       "\n",
       "    .dataframe tbody tr th {\n",
       "        vertical-align: top;\n",
       "    }\n",
       "\n",
       "    .dataframe thead th {\n",
       "        text-align: right;\n",
       "    }\n",
       "</style>\n",
       "<table border=\"1\" class=\"dataframe\">\n",
       "  <thead>\n",
       "    <tr style=\"text-align: right;\">\n",
       "      <th>1</th>\n",
       "      <th>API NO.</th>\n",
       "      <th>District</th>\n",
       "      <th>Lease</th>\n",
       "      <th>Well Number</th>\n",
       "      <th>Permitted Operator</th>\n",
       "      <th>County</th>\n",
       "      <th>Status Date</th>\n",
       "      <th>Status Number</th>\n",
       "      <th>Wellbore Profiles</th>\n",
       "      <th>Filing Purpose</th>\n",
       "      <th>Amend</th>\n",
       "      <th>Total Depth</th>\n",
       "      <th>Stacked Lateral Parent Well DP #</th>\n",
       "      <th>Status</th>\n",
       "      <th>HREF</th>\n",
       "    </tr>\n",
       "  </thead>\n",
       "  <tbody>\n",
       "    <tr>\n",
       "      <th>0</th>\n",
       "      <td>38940705</td>\n",
       "      <td>08</td>\n",
       "      <td>RAMONES UNIT 267-266E</td>\n",
       "      <td>18H</td>\n",
       "      <td>CALLON PETROLEUM OPERATING CO(124828)</td>\n",
       "      <td>REEVES</td>\n",
       "      <td>Submitted: 08/03/2023 Approved: 08/03/2023</td>\n",
       "      <td>892588</td>\n",
       "      <td>Horizontal</td>\n",
       "      <td>New Drill</td>\n",
       "      <td>N</td>\n",
       "      <td>11000</td>\n",
       "      <td>892586</td>\n",
       "      <td>APPROVED</td>\n",
       "      <td>drillingPermitDetailAction.do?methodToCall=sea...</td>\n",
       "    </tr>\n",
       "    <tr>\n",
       "      <th>1</th>\n",
       "      <td>38940705</td>\n",
       "      <td>08</td>\n",
       "      <td>RAMONES 267-266E A1</td>\n",
       "      <td>18H</td>\n",
       "      <td>CALLON PETROLEUM OPERATING CO(124828)</td>\n",
       "      <td>REEVES</td>\n",
       "      <td>Submitted: 11/17/2023</td>\n",
       "      <td>892588</td>\n",
       "      <td>Horizontal</td>\n",
       "      <td>New Drill</td>\n",
       "      <td>Y</td>\n",
       "      <td>11000</td>\n",
       "      <td>892586</td>\n",
       "      <td>SWR HOLD</td>\n",
       "      <td>drillingPermitDetailAction.do?methodToCall=sea...</td>\n",
       "    </tr>\n",
       "  </tbody>\n",
       "</table>\n",
       "</div>"
      ],
      "text/plain": [
       "1   API NO. District                  Lease Well Number  \\\n",
       "0  38940705       08  RAMONES UNIT 267-266E         18H   \n",
       "1  38940705       08    RAMONES 267-266E A1         18H   \n",
       "\n",
       "1                     Permitted Operator  County  \\\n",
       "0  CALLON PETROLEUM OPERATING CO(124828)  REEVES   \n",
       "1  CALLON PETROLEUM OPERATING CO(124828)  REEVES   \n",
       "\n",
       "1                                 Status Date Status Number Wellbore Profiles  \\\n",
       "0  Submitted: 08/03/2023 Approved: 08/03/2023        892588        Horizontal   \n",
       "1                       Submitted: 11/17/2023        892588        Horizontal   \n",
       "\n",
       "1 Filing Purpose Amend Total Depth Stacked Lateral Parent Well DP #    Status  \\\n",
       "0      New Drill     N       11000                           892586  APPROVED   \n",
       "1      New Drill     Y       11000                           892586  SWR HOLD   \n",
       "\n",
       "1                                               HREF  \n",
       "0  drillingPermitDetailAction.do?methodToCall=sea...  \n",
       "1  drillingPermitDetailAction.do?methodToCall=sea...  "
      ]
     },
     "execution_count": 18,
     "metadata": {},
     "output_type": "execute_result"
    }
   ],
   "source": [
    "df"
   ]
  },
  {
   "cell_type": "code",
   "execution_count": 20,
   "metadata": {},
   "outputs": [
    {
     "data": {
      "text/plain": [
       "0    [(08, 03, 2023), (08, 03, 2023)]\n",
       "1                    [(11, 17, 2023)]\n",
       "Name: Status Date, dtype: object"
      ]
     },
     "execution_count": 20,
     "metadata": {},
     "output_type": "execute_result"
    }
   ],
   "source": [
    "df['Status Date'].apply(\n",
    "    lambda x: re.findall(\n",
    "        r'\\b(1[0-2]|0[1-9])/(3[01]|[12][0-9]|0[1-9])/([0-9]{4})\\b', x) \n",
    "    )"
   ]
  }
 ],
 "metadata": {
  "kernelspec": {
   "display_name": "Python 3",
   "language": "python",
   "name": "python3"
  },
  "language_info": {
   "codemirror_mode": {
    "name": "ipython",
    "version": 3
   },
   "file_extension": ".py",
   "mimetype": "text/x-python",
   "name": "python",
   "nbconvert_exporter": "python",
   "pygments_lexer": "ipython3",
   "version": "3.9.0"
  }
 },
 "nbformat": 4,
 "nbformat_minor": 2
}
